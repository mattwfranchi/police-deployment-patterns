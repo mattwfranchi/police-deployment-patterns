{
 "cells": [
  {
   "cell_type": "code",
   "execution_count": 6,
   "id": "b9e80bcc",
   "metadata": {},
   "outputs": [],
   "source": [
    "from glob import glob \n",
    "import os \n",
    "import pandas as pd \n",
    "from tqdm.notebook import tqdm"
   ]
  },
  {
   "cell_type": "code",
   "execution_count": 4,
   "id": "7ba6ea79",
   "metadata": {},
   "outputs": [],
   "source": [
    "DIR_TO_SCAN = \"/share/pierson/nexar_data/nypd-deployment-patterns/output\"\n",
    "OUTPUT_DIR = '/share/pierson/nexar_data/nypd-deployment-patterns/output\"'"
   ]
  },
  {
   "cell_type": "code",
   "execution_count": 17,
   "id": "ba38bf44",
   "metadata": {},
   "outputs": [
    {
     "data": {
      "text/plain": [
       "73"
      ]
     },
     "execution_count": 17,
     "metadata": {},
     "output_type": "execute_result"
    }
   ],
   "source": [
    "md_filenames = glob(f\"{DIR_TO_SCAN}/*.csv\")\n",
    "md_filenames = [x for x in md_filenames if 'analysis_dataset.csv' not in x]\n",
    "md_filenames = [x for x in md_filenames if 'sanity_check' not in x]\n",
    "len(md_filenames)"
   ]
  },
  {
   "cell_type": "code",
   "execution_count": null,
   "id": "678102cc",
   "metadata": {},
   "outputs": [
    {
     "data": {
      "application/vnd.jupyter.widget-view+json": {
       "model_id": "47fe9fd708e24b62831c706623474060",
       "version_major": 2,
       "version_minor": 0
      },
      "text/plain": [
       "  0%|          | 0/73 [00:00<?, ?it/s]"
      ]
     },
     "metadata": {},
     "output_type": "display_data"
    }
   ],
   "source": [
    "mds = [pd.read_csv(x, engine='pyarrow', usecols=['image_ref']) for x in tqdm(md_filenames)]"
   ]
  },
  {
   "cell_type": "code",
   "execution_count": 14,
   "id": "8cd2c854",
   "metadata": {},
   "outputs": [
    {
     "data": {
      "application/vnd.jupyter.widget-view+json": {
       "model_id": "c433e43e029e4a8690c5c1b533de83cc",
       "version_major": 2,
       "version_minor": 0
      },
      "text/plain": [
       "0it [00:00, ?it/s]"
      ]
     },
     "metadata": {},
     "output_type": "display_data"
    }
   ],
   "source": [
    "for idx, md in tqdm(enumerate(mds)): \n",
    "    md['parent_dir'] = md_filenames[idx]"
   ]
  },
  {
   "cell_type": "code",
   "execution_count": 16,
   "id": "0c30bd9c",
   "metadata": {},
   "outputs": [
    {
     "data": {
      "text/plain": [
       "0     /share/pierson/nexar_data/nypd-deployment-patt...\n",
       "1     /share/pierson/nexar_data/nypd-deployment-patt...\n",
       "2     /share/pierson/nexar_data/nypd-deployment-patt...\n",
       "3     /share/pierson/nexar_data/nypd-deployment-patt...\n",
       "4     /share/pierson/nexar_data/nypd-deployment-patt...\n",
       "                            ...                        \n",
       "95    /share/pierson/nexar_data/nypd-deployment-patt...\n",
       "96    /share/pierson/nexar_data/nypd-deployment-patt...\n",
       "97    /share/pierson/nexar_data/nypd-deployment-patt...\n",
       "98    /share/pierson/nexar_data/nypd-deployment-patt...\n",
       "99    /share/pierson/nexar_data/nypd-deployment-patt...\n",
       "Name: parent_dir, Length: 100, dtype: object"
      ]
     },
     "execution_count": 16,
     "metadata": {},
     "output_type": "execute_result"
    }
   ],
   "source": [
    "md.parent_dir"
   ]
  },
  {
   "cell_type": "code",
   "execution_count": null,
   "id": "d4881551",
   "metadata": {},
   "outputs": [],
   "source": [
    "agg_md = pd.concat(mds)"
   ]
  },
  {
   "cell_type": "code",
   "execution_count": null,
   "id": "a592fd1b",
   "metadata": {},
   "outputs": [],
   "source": []
  }
 ],
 "metadata": {
  "kernelspec": {
   "display_name": "Python 3 (ipykernel)",
   "language": "python",
   "name": "python3"
  },
  "language_info": {
   "codemirror_mode": {
    "name": "ipython",
    "version": 3
   },
   "file_extension": ".py",
   "mimetype": "text/x-python",
   "name": "python",
   "nbconvert_exporter": "python",
   "pygments_lexer": "ipython3",
   "version": "3.11.0"
  }
 },
 "nbformat": 4,
 "nbformat_minor": 5
}
