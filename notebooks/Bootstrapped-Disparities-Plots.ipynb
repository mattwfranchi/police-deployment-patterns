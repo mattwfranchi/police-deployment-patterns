{
 "cells": [
  {
   "cell_type": "markdown",
   "id": "2fa81c5d",
   "metadata": {},
   "source": [
    "# Policing Disparities Plots - Error Bars from Bootstrapping\n",
    "This notebook contains code to generate the plots in our paper, using data from a bootstrapping process. "
   ]
  },
  {
   "cell_type": "code",
   "execution_count": 22,
   "id": "2cc8baae",
   "metadata": {},
   "outputs": [],
   "source": [
    "from pprint import pprint\n",
    "from pathlib import Path\n",
    "import pandas as pd \n",
    "import matplotlib.pyplot as plt\n",
    "from matplotlib import rc\n",
    "import matplotlib\n",
    "from glob import glob \n",
    "import json\n",
    "import numpy as np\n",
    "from textwrap import wrap\n"
   ]
  },
  {
   "cell_type": "markdown",
   "id": "2b230b26",
   "metadata": {},
   "source": [
    "### LaTeX font rendering (optional, requires local LaTeX installation)"
   ]
  },
  {
   "cell_type": "code",
   "execution_count": 2,
   "id": "680c72c5",
   "metadata": {},
   "outputs": [],
   "source": [
    "# Requires local LaTeX installation \n",
    "rc('font', **{'family': 'serif', 'serif': ['Computer Modern Roman']})\n",
    "matplotlib.rcParams['text.usetex'] = True\n",
    "rc('text.latex', preamble=r'\\usepackage{amsmath} \\usepackage[T1]{fontenc}')"
   ]
  },
  {
   "cell_type": "markdown",
   "id": "6798a7d4",
   "metadata": {},
   "source": [
    "## Directory verification / setup\n",
    "This code should work by default, assuming the directory layout in the Git repo is unchanged. "
   ]
  },
  {
   "cell_type": "code",
   "execution_count": 3,
   "id": "24a527fa",
   "metadata": {},
   "outputs": [],
   "source": [
    "N_BOOTSTRAPS = 100\n",
    "BOOTSTRAPS_PATH = \"../plot_data\"\n",
    "PLOTS_PATH = \"../plots/figures\""
   ]
  },
  {
   "cell_type": "code",
   "execution_count": 4,
   "id": "0d09dcc4",
   "metadata": {},
   "outputs": [],
   "source": [
    "p = Path(PLOTS_PATH)\n",
    "if not p.is_dir():\n",
    "    print(\"plots directory is empty, creating now...\")\n",
    "    p.mkdir()    "
   ]
  },
  {
   "cell_type": "code",
   "execution_count": 5,
   "id": "a4c859bb",
   "metadata": {},
   "outputs": [
    {
     "name": "stdout",
     "output_type": "stream",
     "text": [
      "['../plot_data/boro_bootstraps.json',\n",
      " '../plot_data/density_cbg_bootstraps.json',\n",
      " '../plot_data/density_cbg_residential_only_bootstraps.json',\n",
      " '../plot_data/median_household_income_bootstraps.json',\n",
      " '../plot_data/median_household_income_residential_only_bootstraps.json',\n",
      " '../plot_data/neighborhood_bootstraps.json',\n",
      " '../plot_data/race_bootstraps.json',\n",
      " '../plot_data/race_residential_zones_only_bootstraps.json',\n",
      " '../plot_data/zone_bootstraps.json']\n"
     ]
    }
   ],
   "source": [
    "pprint(glob(f\"{BOOTSTRAPS_PATH}/*.json\"))"
   ]
  },
  {
   "cell_type": "code",
   "execution_count": 60,
   "id": "1a076753",
   "metadata": {},
   "outputs": [],
   "source": [
    "def bootstrapped_plots(label_mapping, data_path, ylim, xlabel, xtick_order=None, firstn_filter=-1, lastn_filter=-1, figsize=(5,4)):\n",
    "    data = json.load(open(data_path))\n",
    "    print(\"point estimate\")\n",
    "    for k in data['point_estimate'].keys():\n",
    "        if k not in label_mapping.keys():\n",
    "            continue\n",
    "        print('%-20s %2.3f+/-%2.3f' % (label_mapping[k], \n",
    "                                       data['point_estimate'][k], \n",
    "                                       np.std([bootstrap_iterate[k] for bootstrap_iterate in data['bootstrap_statistics']]) * 1.96))\n",
    "\n",
    "    point_estimate = pd.DataFrame.from_dict(data['point_estimate'], orient='index').rename(columns={0:'point_estimate'})\n",
    "    point_estimate['errorbar'] = point_estimate.index.map(\n",
    "        lambda x:np.std([bootstrap_iterate[x] for bootstrap_iterate in data['bootstrap_statistics']]) * 1.96)\n",
    "\n",
    "    point_estimate = point_estimate[point_estimate.index.map(lambda x: x in label_mapping.keys())]\n",
    "    point_estimate = point_estimate.sort_values(by='point_estimate')[::-1]\n",
    "    print(point_estimate)\n",
    "    if len(label_mapping) > 0:\n",
    "        point_estimate.index = point_estimate.index.map(label_mapping)\n",
    "        point_estimate.index = point_estimate.index.fillna('ERROR')\n",
    "    if xtick_order is not None:\n",
    "        point_estimate = point_estimate.loc[xtick_order]\n",
    "    # 20 -> old number of bootstraps, mhi rzones only was not rerun \n",
    "    assert len(data['bootstrap_statistics']) == N_BOOTSTRAPS or len(data['bootstrap_statistics']) == 20\n",
    "    \n",
    "    if (firstn_filter > -1) & (lastn_filter > -1):\n",
    "        point_estimate = pd.concat([point_estimate.iloc[:firstn_filter], point_estimate.iloc[-lastn_filter:]])\n",
    "        #std_errs = pd.concat([std_errs.iloc[:firstn_filter] , std_errs.iloc[-lastn_filter:]])\n",
    "    elif firstn_filter > -1: \n",
    "        point_estimate = point_estimate[:firstn_filter]\n",
    "    elif lastn_filter > -1: \n",
    "        point_estimate = point_estimate[-lastn_filter:]\n",
    "\n",
    "    fig, ax = plt.subplots(figsize=figsize)\n",
    "    colors_array = point_estimate['point_estimate'].apply(lambda x: '#e14b31' if x > 1 else '#1984c5')\n",
    "    ax.set_xlim(-0.5,len(point_estimate)-0.5)\n",
    "    \n",
    "    xlabels = [ '\\n'.join(wrap(l, 12)) for l in point_estimate.index]\n",
    "    ax.set_xticks(range(len(xlabels)))\n",
    "    ax.set_xticklabels(xlabels)\n",
    "    \n",
    "    \n",
    "    ax.vlines(x=point_estimate.index, ymax=point_estimate['point_estimate'], ymin=1, linewidth=40, colors=colors_array)\n",
    "    ax.set_ylabel('Police deployment\\n(relative to city average)', fontsize=14)\n",
    "    ax.errorbar(y=point_estimate['point_estimate'], x=point_estimate.index, yerr=point_estimate['errorbar'], ls='None', capsize=5, capthick=0.5, elinewidth=1, ecolor='black')\n",
    "    ax.axhline(1, color='black', linewidth=0.8, linestyle='--', alpha=0.7)\n",
    "    ax.set_xlabel(xlabel, fontsize=14)\n",
    "    ax.set_ylim(ylim)\n",
    "    yticks = sorted(ylim + [1])\n",
    "    ax.set_yticks(yticks)\n",
    "    ax.yaxis.set_major_formatter(matplotlib.ticker.FormatStrFormatter('%0.2fx'))\n",
    "    \n",
    "    #for tick in ax.xaxis.get_major_ticks()[1::2]:\n",
    "    #    tick.set_pad(12)\n",
    "    plt.tight_layout()\n",
    "    return fig, ax"
   ]
  },
  {
   "cell_type": "markdown",
   "id": "72d4d3ab",
   "metadata": {},
   "source": [
    "## Disparities by race plot code "
   ]
  },
  {
   "cell_type": "code",
   "execution_count": 31,
   "id": "f61e8ad8",
   "metadata": {},
   "outputs": [],
   "source": [
    "RACE_DATA_PATH = f\"{BOOTSTRAPS_PATH}/race_bootstraps.json\""
   ]
  },
  {
   "cell_type": "code",
   "execution_count": 32,
   "id": "29b7b832",
   "metadata": {},
   "outputs": [],
   "source": [
    "race_data_mapping = {\n",
    "    'Estimate_Total_Not_Hispanic_or_Latino_White_alone_relative_to_average': 'White',\n",
    "    'Estimate_Total_Not_Hispanic_or_Latino_Black_or_African_American_alone_relative_to_average': 'Black',\n",
    "    'Estimate_Total_Hispanic_or_Latino_relative_to_average': 'Hispanic',\n",
    "    'Estimate_Total_Not_Hispanic_or_Latino_Asian_alone_relative_to_average': 'Asian'\n",
    "}"
   ]
  },
  {
   "cell_type": "code",
   "execution_count": 33,
   "id": "b4d9d7e9",
   "metadata": {},
   "outputs": [
    {
     "name": "stdout",
     "output_type": "stream",
     "text": [
      "point estimate\n",
      "White                0.989+/-0.005\n",
      "Black                1.040+/-0.006\n",
      "Hispanic             1.049+/-0.005\n",
      "Asian                0.879+/-0.006\n",
      "                                                    point_estimate  errorbar\n",
      "Estimate_Total_Hispanic_or_Latino_relative_to_a...        1.049442  0.005065\n",
      "Estimate_Total_Not_Hispanic_or_Latino_Black_or_...        1.040498  0.006059\n",
      "Estimate_Total_Not_Hispanic_or_Latino_White_alo...        0.989305  0.005256\n",
      "Estimate_Total_Not_Hispanic_or_Latino_Asian_alo...        0.879257  0.006179\n"
     ]
    },
    {
     "data": {
      "image/png": "[encoded data removed]",
      "text/plain": [
       "<Figure size 360x288 with 1 Axes>"
      ]
     },
     "metadata": {
      "needs_background": "light"
     },
     "output_type": "display_data"
    }
   ],
   "source": [
    "fig, ax = bootstrapped_plots(label_mapping=race_data_mapping, data_path=RACE_DATA_PATH, ylim=[0.75, 1.25], \n",
    "                             xlabel='Race')\n",
    "plt.savefig(f'{PLOTS_PATH}/bootstrapped_race_plot.pdf', bbox_inches=\"tight\")"
   ]
  },
  {
   "cell_type": "markdown",
   "id": "be0f173c",
   "metadata": {},
   "source": [
    "## Disparities by race (only residential zones) plot code "
   ]
  },
  {
   "cell_type": "code",
   "execution_count": 34,
   "id": "52fa67c9",
   "metadata": {},
   "outputs": [],
   "source": [
    "RACE_RZONE_DATA_PATH = f\"{BOOTSTRAPS_PATH}/race_residential_zones_only_bootstraps.json\""
   ]
  },
  {
   "cell_type": "code",
   "execution_count": 35,
   "id": "1d315d62",
   "metadata": {},
   "outputs": [
    {
     "name": "stdout",
     "output_type": "stream",
     "text": [
      "point estimate\n",
      "White                0.953+/-0.006\n",
      "Black                1.084+/-0.007\n",
      "Hispanic             1.082+/-0.006\n",
      "Asian                0.812+/-0.007\n",
      "                                                    point_estimate  errorbar\n",
      "Estimate_Total_Not_Hispanic_or_Latino_Black_or_...        1.083686  0.007101\n",
      "Estimate_Total_Hispanic_or_Latino_relative_to_a...        1.082149  0.005814\n",
      "Estimate_Total_Not_Hispanic_or_Latino_White_alo...        0.953283  0.005857\n",
      "Estimate_Total_Not_Hispanic_or_Latino_Asian_alo...        0.812445  0.007485\n"
     ]
    },
    {
     "data": {
      "image/png": "[encoded data removed]",
      "text/plain": [
       "<Figure size 360x288 with 1 Axes>"
      ]
     },
     "metadata": {
      "needs_background": "light"
     },
     "output_type": "display_data"
    }
   ],
   "source": [
    "fig, ax = bootstrapped_plots(data_path=RACE_RZONE_DATA_PATH, label_mapping=race_data_mapping, ylim=[0.75, 1.25], \n",
    "                             xlabel='Race, residential zones only')\n",
    "plt.savefig(f'{PLOTS_PATH}/bootstrapped_race_rzones_plot.pdf', bbox_inches=\"tight\")"
   ]
  },
  {
   "cell_type": "markdown",
   "id": "b1440b2d",
   "metadata": {},
   "source": [
    "## Disparities by zone plot code"
   ]
  },
  {
   "cell_type": "code",
   "execution_count": 36,
   "id": "3f1d0eea",
   "metadata": {},
   "outputs": [],
   "source": [
    "ZONE_DATA_PATH = f\"{BOOTSTRAPS_PATH}/zone_bootstraps.json\""
   ]
  },
  {
   "cell_type": "code",
   "execution_count": 37,
   "id": "f7f2010a",
   "metadata": {},
   "outputs": [],
   "source": [
    "zone_label_mapping = {\n",
    "    \"C_relative_to_average\": \"Commercial\",\n",
    "    \"M_relative_to_average\": \"Manufacturing\",\n",
    "    \"R_relative_to_average\": \"Residential\"\n",
    "}"
   ]
  },
  {
   "cell_type": "code",
   "execution_count": 38,
   "id": "c4a65a22",
   "metadata": {},
   "outputs": [
    {
     "name": "stdout",
     "output_type": "stream",
     "text": [
      "point estimate\n",
      "Commercial           1.979+/-0.025\n",
      "Manufacturing        0.948+/-0.024\n",
      "Residential          0.938+/-0.002\n",
      "                       point_estimate  errorbar\n",
      "C_relative_to_average        1.979094  0.024676\n",
      "M_relative_to_average        0.948196  0.024320\n",
      "R_relative_to_average        0.938197  0.001794\n"
     ]
    },
    {
     "data": {
      "image/png": "[encoded data removed]",
      "text/plain": [
       "<Figure size 360x288 with 1 Axes>"
      ]
     },
     "metadata": {
      "needs_background": "light"
     },
     "output_type": "display_data"
    }
   ],
   "source": [
    "fig, ax = bootstrapped_plots(data_path=ZONE_DATA_PATH, label_mapping=zone_label_mapping, ylim=[0.25, 2.5], \n",
    "                             xlabel='Zone')\n",
    "plt.savefig(f'{PLOTS_PATH}/bootstrapped_zone_plot.pdf', bbox_inches=\"tight\")"
   ]
  },
  {
   "cell_type": "markdown",
   "id": "74f30a9d",
   "metadata": {},
   "source": [
    "## Disparities by income plot code "
   ]
  },
  {
   "cell_type": "code",
   "execution_count": 39,
   "id": "5762e6f2",
   "metadata": {},
   "outputs": [],
   "source": [
    "INCOME_DATA_PATH = f\"{BOOTSTRAPS_PATH}/median_household_income_bootstraps.json\""
   ]
  },
  {
   "cell_type": "code",
   "execution_count": 40,
   "id": "a4a46148",
   "metadata": {},
   "outputs": [],
   "source": [
    "income_label_mapping = { \n",
    "    \"median_household_income_quartile_1_relative_to_average\": \"Lowest\",    \n",
    "    \"median_household_income_quartile_2_relative_to_average\": \"2nd lowest\",   \n",
    "    \"median_household_income_quartile_3_relative_to_average\": \"2nd highest\",    \n",
    "    \"median_household_income_quartile_4_relative_to_average\": \"Highest\"\n",
    "}"
   ]
  },
  {
   "cell_type": "code",
   "execution_count": 41,
   "id": "e3a4ad16",
   "metadata": {},
   "outputs": [
    {
     "name": "stdout",
     "output_type": "stream",
     "text": [
      "point estimate\n",
      "Lowest               1.122+/-0.010\n",
      "2nd lowest           0.889+/-0.009\n",
      "2nd highest          0.898+/-0.010\n",
      "Highest              1.156+/-0.012\n",
      "                                                    point_estimate  errorbar\n",
      "median_household_income_quartile_4_relative_to_...        1.155749  0.011610\n",
      "median_household_income_quartile_1_relative_to_...        1.121885  0.009963\n",
      "median_household_income_quartile_3_relative_to_...        0.898250  0.009846\n",
      "median_household_income_quartile_2_relative_to_...        0.889279  0.008810\n"
     ]
    },
    {
     "data": {
      "image/png": "[encoded data removed]",
      "text/plain": [
       "<Figure size 360x288 with 1 Axes>"
      ]
     },
     "metadata": {
      "needs_background": "light"
     },
     "output_type": "display_data"
    }
   ],
   "source": [
    "fig, ax = bootstrapped_plots(data_path=INCOME_DATA_PATH, label_mapping=income_label_mapping, ylim=[0.75, 1.25], \n",
    "            xlabel='Income quartile', \n",
    "            xtick_order=['Lowest', '2nd lowest', '2nd highest', 'Highest'])\n",
    "plt.savefig(f'{PLOTS_PATH}/bootstrapped_income_plot.pdf', bbox_inches=\"tight\")"
   ]
  },
  {
   "cell_type": "markdown",
   "id": "3a2d3799",
   "metadata": {},
   "source": [
    "## Disparities by income (only residential zones) plot code"
   ]
  },
  {
   "cell_type": "code",
   "execution_count": 42,
   "id": "97feae60",
   "metadata": {},
   "outputs": [],
   "source": [
    "INCOME_RZONES_DATA_PATH = f\"{BOOTSTRAPS_PATH}/median_household_income_residential_only_bootstraps.json\""
   ]
  },
  {
   "cell_type": "code",
   "execution_count": 43,
   "id": "0119cee9",
   "metadata": {},
   "outputs": [
    {
     "name": "stdout",
     "output_type": "stream",
     "text": [
      "point estimate\n",
      "Lowest               1.194+/-0.010\n",
      "2nd lowest           0.950+/-0.013\n",
      "2nd highest          0.922+/-0.009\n",
      "Highest              0.909+/-0.010\n",
      "                                                    point_estimate  errorbar\n",
      "median_household_income_quartile_1_relative_to_...        1.194225  0.009934\n",
      "median_household_income_quartile_2_relative_to_...        0.950291  0.012735\n",
      "median_household_income_quartile_3_relative_to_...        0.921574  0.009046\n",
      "median_household_income_quartile_4_relative_to_...        0.909025  0.009698\n"
     ]
    },
    {
     "data": {
      "image/png": "[encoded data removed]",
      "text/plain": [
       "<Figure size 360x288 with 1 Axes>"
      ]
     },
     "metadata": {
      "needs_background": "light"
     },
     "output_type": "display_data"
    }
   ],
   "source": [
    "fig, ax = bootstrapped_plots(data_path=INCOME_RZONES_DATA_PATH, label_mapping=income_label_mapping, ylim=[0.75, 1.25], \n",
    "                            xlabel='Income quartile, residential zones only', \n",
    "                             xtick_order=['Lowest', '2nd lowest', '2nd highest', 'Highest'])\n",
    "plt.savefig(f'{PLOTS_PATH}/bootstrapped_income_rzones_plot.pdf', bbox_inches=\"tight\")"
   ]
  },
  {
   "cell_type": "markdown",
   "id": "bd5e3894",
   "metadata": {},
   "source": [
    "## Disparities by NYC borough plot code"
   ]
  },
  {
   "cell_type": "code",
   "execution_count": 44,
   "id": "43804b17",
   "metadata": {},
   "outputs": [],
   "source": [
    "BOROUGH_DATA_PATH = f\"{BOOTSTRAPS_PATH}/boro_bootstraps.json\""
   ]
  },
  {
   "cell_type": "code",
   "execution_count": 45,
   "id": "24b9e2ae",
   "metadata": {},
   "outputs": [],
   "source": [
    "borough_label_mapping = {\n",
    "    \"Bronx_relative_to_average\":            'The\\nBronx',\n",
    "    \"Brooklyn_relative_to_average\":         'Brooklyn',\n",
    "    \"Manhattan_relative_to_average\":        'Manhattan',\n",
    "    \"Queens_relative_to_average\":           'Queens',\n",
    "    \"Staten Island_relative_to_average\":    'Staten Island'\n",
    "}"
   ]
  },
  {
   "cell_type": "code",
   "execution_count": 46,
   "id": "5db87e20",
   "metadata": {},
   "outputs": [
    {
     "name": "stdout",
     "output_type": "stream",
     "text": [
      "point estimate\n",
      "The\n",
      "Bronx            0.994+/-0.013\n",
      "Brooklyn             0.933+/-0.007\n",
      "Manhattan            1.616+/-0.011\n",
      "Queens               0.739+/-0.008\n",
      "Staten Island        0.510+/-0.024\n",
      "                                   point_estimate  errorbar\n",
      "Manhattan_relative_to_average            1.615770  0.011079\n",
      "Bronx_relative_to_average                0.994465  0.013500\n",
      "Brooklyn_relative_to_average             0.932757  0.007128\n",
      "Queens_relative_to_average               0.739373  0.008279\n",
      "Staten Island_relative_to_average        0.509756  0.024455\n"
     ]
    },
    {
     "data": {
      "image/png": "[encoded data removed]",
      "text/plain": [
       "<Figure size 360x288 with 1 Axes>"
      ]
     },
     "metadata": {
      "needs_background": "light"
     },
     "output_type": "display_data"
    }
   ],
   "source": [
    "fig, ax = bootstrapped_plots(data_path=BOROUGH_DATA_PATH, label_mapping=borough_label_mapping, ylim=[0.25, 1.75], \n",
    "                             xlabel='Borough')\n",
    "plt.savefig(f'{PLOTS_PATH}/bootstrapped_borough_plot.pdf', bbox_inches=\"tight\")"
   ]
  },
  {
   "cell_type": "markdown",
   "id": "3364ce88",
   "metadata": {},
   "source": [
    "## Disparities by density quartile plot code"
   ]
  },
  {
   "cell_type": "code",
   "execution_count": 47,
   "id": "8e6852ac",
   "metadata": {},
   "outputs": [],
   "source": [
    "DENSITY_DATA_PATH = f\"{BOOTSTRAPS_PATH}/density_cbg_bootstraps.json\""
   ]
  },
  {
   "cell_type": "code",
   "execution_count": 48,
   "id": "0a908d65",
   "metadata": {},
   "outputs": [],
   "source": [
    "density_label_mapping = { \n",
    "    \"density_cbg_quartile_1_relative_to_average\":    \"Lowest\",\n",
    "    \"density_cbg_quartile_2_relative_to_average\":    \"2nd lowest\",\n",
    "    \"density_cbg_quartile_3_relative_to_average\":    \"2nd highest\",\n",
    "    \"density_cbg_quartile_4_relative_to_average\":    \"Highest\"\n",
    "}"
   ]
  },
  {
   "cell_type": "code",
   "execution_count": 49,
   "id": "05f99b4b",
   "metadata": {},
   "outputs": [
    {
     "name": "stdout",
     "output_type": "stream",
     "text": [
      "point estimate\n",
      "Lowest               0.647+/-0.014\n",
      "2nd lowest           0.786+/-0.008\n",
      "2nd highest          1.043+/-0.007\n",
      "Highest              1.214+/-0.007\n",
      "                                            point_estimate  errorbar\n",
      "density_cbg_quartile_4_relative_to_average        1.214186  0.006972\n",
      "density_cbg_quartile_3_relative_to_average        1.042544  0.007345\n",
      "density_cbg_quartile_2_relative_to_average        0.785693  0.007809\n",
      "density_cbg_quartile_1_relative_to_average        0.647196  0.014485\n"
     ]
    },
    {
     "data": {
      "image/png": "[encoded data removed]",
      "text/plain": [
       "<Figure size 360x288 with 1 Axes>"
      ]
     },
     "metadata": {
      "needs_background": "light"
     },
     "output_type": "display_data"
    }
   ],
   "source": [
    "fig, ax = bootstrapped_plots(data_path=DENSITY_DATA_PATH, label_mapping=density_label_mapping, ylim=[0.5, 1.5], \n",
    "                             xlabel='Density quartile', \n",
    "                             xtick_order=['Lowest', '2nd lowest', '2nd highest', 'Highest'])\n",
    "plt.savefig(f'{PLOTS_PATH}/bootstrapped_density_plot.pdf', bbox_inches=\"tight\")"
   ]
  },
  {
   "cell_type": "markdown",
   "id": "31272c89",
   "metadata": {},
   "source": [
    "## Disparities by density quartile (only residential zones) plot code"
   ]
  },
  {
   "cell_type": "code",
   "execution_count": 50,
   "id": "2b62d1ec",
   "metadata": {},
   "outputs": [],
   "source": [
    "DENSITY_RZONES_DATA_PATH = f\"{BOOTSTRAPS_PATH}/density_cbg_residential_only_bootstraps.json\""
   ]
  },
  {
   "cell_type": "code",
   "execution_count": 51,
   "id": "fea36054",
   "metadata": {},
   "outputs": [
    {
     "name": "stdout",
     "output_type": "stream",
     "text": [
      "point estimate\n",
      "Lowest               0.624+/-0.011\n",
      "2nd lowest           0.872+/-0.011\n",
      "2nd highest          1.054+/-0.009\n",
      "Highest              1.238+/-0.010\n",
      "                                            point_estimate  errorbar\n",
      "density_cbg_quartile_4_relative_to_average        1.237624  0.009738\n",
      "density_cbg_quartile_3_relative_to_average        1.053739  0.009376\n",
      "density_cbg_quartile_2_relative_to_average        0.871690  0.010686\n",
      "density_cbg_quartile_1_relative_to_average        0.623835  0.010814\n"
     ]
    },
    {
     "data": {
      "image/png": "[encoded data removed]",
      "text/plain": [
       "<Figure size 360x288 with 1 Axes>"
      ]
     },
     "metadata": {
      "needs_background": "light"
     },
     "output_type": "display_data"
    }
   ],
   "source": [
    "fig, ax = bootstrapped_plots(data_path=DENSITY_RZONES_DATA_PATH, label_mapping=density_label_mapping, ylim=[0.5, 1.5], \n",
    "                             xlabel='Density quartile, residential zones only', \n",
    "                            xtick_order=['Lowest', '2nd lowest', '2nd highest', 'Highest'])\n",
    "plt.savefig(f'{PLOTS_PATH}/bootstrapped_density_rzones_plot.pdf', bbox_inches=\"tight\")"
   ]
  },
  {
   "cell_type": "markdown",
   "id": "6b1e6b60",
   "metadata": {},
   "source": [
    "## Disparities by neighborhood tabulation area (NTA) plot code"
   ]
  },
  {
   "cell_type": "code",
   "execution_count": 52,
   "id": "dcddafd9",
   "metadata": {},
   "outputs": [],
   "source": [
    "NTA_DATA_PATH = f\"{BOOTSTRAPS_PATH}/neighborhood_bootstraps.json\""
   ]
  },
  {
   "cell_type": "code",
   "execution_count": 53,
   "id": "90a5768f",
   "metadata": {},
   "outputs": [],
   "source": [
    "nta_data = json.load(open(NTA_DATA_PATH))\n",
    "list(nta_data['point_estimate'].keys())\n",
    "ntas_keys = list(nta_data['point_estimate'].keys())\n",
    "ntas_keys = [x for x in ntas_keys if 'relative_to_average' in x]\n",
    "ntas = [x.replace('_relative_to_average', '') for x in ntas_keys]\n",
    "nta_label_mapping = dict(zip(ntas_keys, ntas))\n"
   ]
  },
  {
   "cell_type": "code",
   "execution_count": 64,
   "id": "ac6be2c0",
   "metadata": {},
   "outputs": [
    {
     "name": "stdout",
     "output_type": "stream",
     "text": [
      "point estimate\n",
      "                     1.881+/-0.683\n",
      "Allerton             0.664+/-0.101\n",
      "Alley Pond Park      0.337+/-0.051\n",
      "Annadale-Huguenot-Prince's Bay-Woodrow 0.340+/-0.100\n",
      "Arden Heights-Rossville 0.225+/-0.016\n",
      "Astoria (Central)    1.042+/-0.064\n",
      "Astoria (East)-Woodside (North) 0.558+/-0.039\n",
      "Astoria (North)-Ditmars-Steinway 0.572+/-0.046\n",
      "Auburndale           0.356+/-0.048\n",
      "Baisley Park         0.998+/-0.074\n",
      "Barren Island-Floyd Bennett Field 0.391+/-0.063\n",
      "Bath Beach           0.958+/-0.072\n",
      "Bay Ridge            0.610+/-0.036\n",
      "Bay Terrace-Clearview 0.308+/-0.053\n",
      "Bayside              0.776+/-0.075\n",
      "Bedford Park         0.732+/-0.053\n",
      "Bedford-Stuyvesant (East) 1.183+/-0.045\n",
      "Bedford-Stuyvesant (West) 1.350+/-0.053\n",
      "Bellerose            0.375+/-0.044\n",
      "Belmont              1.020+/-0.084\n",
      "Bensonhurst          0.507+/-0.033\n",
      "Borough Park         0.711+/-0.033\n",
      "Breezy Point-Belle Harbor-Rockaway Park-Broad Channel 0.878+/-0.234\n",
      "Brighton Beach       0.790+/-0.091\n",
      "Bronx Park           0.513+/-0.042\n",
      "Brooklyn Heights     0.972+/-0.085\n",
      "Brownsville          1.076+/-0.078\n",
      "Bushwick (East)      0.630+/-0.041\n",
      "Bushwick (West)      0.956+/-0.045\n",
      "Calvert Vaux Park    0.371+/-0.089\n",
      "Cambria Heights      0.355+/-0.065\n",
      "Canarsie             0.844+/-0.047\n",
      "Carroll Gardens-Cobble Hill-Gowanus-Red Hook 1.313+/-0.080\n",
      "Castle Hill-Unionport 0.590+/-0.056\n",
      "Central Park         1.422+/-0.063\n",
      "Chelsea-Hudson Yards 2.107+/-0.059\n",
      "Chinatown-Two Bridges 1.505+/-0.130\n",
      "Claremont Village-Claremont (East) 0.810+/-0.085\n",
      "Clinton Hill         1.786+/-0.085\n",
      "Co-op City           0.594+/-0.163\n",
      "College Point        0.376+/-0.083\n",
      "Concourse-Concourse Village 1.174+/-0.070\n",
      "Coney Island-Sea Gate 1.979+/-0.149\n",
      "Corona               0.529+/-0.035\n",
      "Crotona Park East    0.854+/-0.081\n",
      "Crown Heights (North) 1.186+/-0.052\n",
      "Crown Heights (South) 1.156+/-0.058\n",
      "Cypress Hills        0.680+/-0.052\n",
      "Douglaston-Little Neck 0.298+/-0.038\n",
      "Downtown Brooklyn-DUMBO-Boerum Hill 1.861+/-0.058\n",
      "Dyker Beach Park     0.419+/-0.125\n",
      "Dyker Heights        0.422+/-0.042\n",
      "East Elmhurst        0.695+/-0.048\n",
      "East Flatbush-Erasmus 1.713+/-0.075\n",
      "East Flatbush-Farragut 0.810+/-0.074\n",
      "East Flatbush-Remsen Village 0.759+/-0.063\n",
      "East Flatbush-Rugby  0.708+/-0.048\n",
      "East Flushing        0.324+/-0.059\n",
      "East Harlem (North)  1.768+/-0.071\n",
      "East Harlem (South)  2.021+/-0.083\n",
      "East Midtown-Turtle Bay 1.455+/-0.067\n",
      "East New York (North) 1.770+/-0.092\n",
      "East New York-City Line 0.695+/-0.061\n",
      "East New York-New Lots 0.803+/-0.050\n",
      "East Village         1.799+/-0.066\n",
      "East Williamsburg    0.912+/-0.041\n",
      "Eastchester-Edenwald-Baychester 0.794+/-0.105\n",
      "Elmhurst             0.767+/-0.050\n",
      "Far Rockaway-Bayswater 1.297+/-0.120\n",
      "Financial District-Battery Park City 1.841+/-0.060\n",
      "Flatbush             0.919+/-0.051\n",
      "Flatbush (West)-Ditmas Park-Parkville 1.011+/-0.056\n",
      "Flatlands            0.877+/-0.050\n",
      "Flushing-Willets Point 0.938+/-0.049\n",
      "Fordham Heights      1.303+/-0.098\n",
      "Forest Hills         1.792+/-0.063\n",
      "Fort Greene          0.938+/-0.060\n",
      "Fort Hamilton        0.471+/-0.097\n",
      "Fort Wadsworth       0.245+/-0.057\n",
      "Fresh Meadows-Utopia 0.508+/-0.077\n",
      "Freshkills Park (South) 0.362+/-0.136\n",
      "Glen Oaks-Floral Park-New Hyde Park 0.370+/-0.052\n",
      "Glendale             0.400+/-0.042\n",
      "Gramercy             4.275+/-0.102\n",
      "Grasmere-Arrochar-South Beach-Dongan Hills 0.548+/-0.111\n",
      "Gravesend (East)-Homecrest 1.430+/-0.060\n",
      "Gravesend (South)    0.540+/-0.079\n",
      "Gravesend (West)     0.447+/-0.033\n",
      "Great Kills-Eltingville 0.330+/-0.058\n",
      "Greenpoint           0.791+/-0.043\n",
      "Greenwich Village    1.386+/-0.067\n",
      "Hamilton Heights-Sugar Hill 2.240+/-0.126\n",
      "Harlem (North)       1.716+/-0.066\n",
      "Harlem (South)       1.565+/-0.075\n",
      "Hell's Kitchen       2.425+/-0.089\n",
      "Highbridge           0.869+/-0.078\n",
      "Highland Park-Cypress Hills Cemeteries (North) 0.325+/-0.034\n",
      "Hollis               0.442+/-0.067\n",
      "Holy Cross Cemetery  0.738+/-0.323\n",
      "Howard Beach-Lindenwood 0.653+/-0.080\n",
      "Hunts Point          0.750+/-0.117\n",
      "Hutchinson Metro Center 0.934+/-0.094\n",
      "Inwood               0.809+/-0.072\n",
      "Inwood Hill Park     0.738+/-0.178\n",
      "Jackson Heights      1.054+/-0.046\n",
      "Jacob Riis Park-Fort Tilden-Breezy Point Tip 0.385+/-0.327\n",
      "Jamaica              1.281+/-0.051\n",
      "Jamaica Estates-Holliswood 0.503+/-0.049\n",
      "Jamaica Hills-Briarwood 0.477+/-0.031\n",
      "Kensington           0.529+/-0.030\n",
      "Kew Gardens          0.667+/-0.056\n",
      "Kew Gardens Hills    0.461+/-0.058\n",
      "Kingsbridge Heights-Van Cortlandt Village 0.591+/-0.068\n",
      "Kingsbridge-Marble Hill 1.126+/-0.154\n",
      "Laurelton            0.467+/-0.087\n",
      "Long Island City-Hunters Point 0.977+/-0.059\n",
      "Longwood             1.299+/-0.082\n",
      "Lower East Side      1.093+/-0.071\n",
      "Madison              0.514+/-0.048\n",
      "Manhattanville-West Harlem 1.951+/-0.163\n",
      "Mapleton-Midwood (West) 0.489+/-0.034\n",
      "Marine Park-Mill Basin-Bergen Beach 0.421+/-0.044\n",
      "Mariner's Harbor-Arlington-Graniteville 0.446+/-0.097\n",
      "Maspeth              0.401+/-0.031\n",
      "Melrose              2.015+/-0.108\n",
      "Middle Village       0.390+/-0.046\n",
      "Midtown South-Flatiron-Union Square 2.088+/-0.070\n",
      "Midtown-Times Square 2.880+/-0.071\n",
      "Midwood              0.530+/-0.038\n",
      "Miller Field         0.652+/-0.835\n",
      "Morningside Heights  1.456+/-0.119\n",
      "Morris Park          0.794+/-0.071\n",
      "Morrisania           1.595+/-0.081\n",
      "Mott Haven-Port Morris 1.728+/-0.101\n",
      "Mount Eden-Claremont (West) 1.491+/-0.098\n",
      "Mount Hope           2.026+/-0.122\n",
      "Mount Olivet & All Faiths Cemeteries 0.476+/-0.230\n",
      "Murray Hill-Broadway Flushing 0.450+/-0.048\n",
      "Murray Hill-Kips Bay 1.179+/-0.045\n",
      "New Dorp-Midland Beach 0.994+/-0.131\n",
      "New Springville-Willowbrook-Bulls Head-Travis 0.350+/-0.041\n",
      "North Corona         0.527+/-0.045\n",
      "Norwood              1.351+/-0.071\n",
      "Oakland Gardens-Hollis Hills 0.487+/-0.127\n",
      "Oakwood-Richmondtown 0.504+/-0.132\n",
      "Ocean Hill           0.922+/-0.048\n",
      "Old Astoria-Hallets Point 0.776+/-0.086\n",
      "Ozone Park           0.562+/-0.048\n",
      "Ozone Park (North)   0.570+/-0.046\n",
      "Park Slope           0.931+/-0.036\n",
      "Parkchester          0.941+/-0.119\n",
      "Pelham Bay Park      0.658+/-0.119\n",
      "Pelham Bay-Country Club-City Island 0.428+/-0.064\n",
      "Pelham Gardens       0.468+/-0.089\n",
      "Pelham Parkway-Van Nest 0.718+/-0.073\n",
      "Pomonok-Electchester-Hillcrest 1.596+/-0.146\n",
      "Port Richmond        0.488+/-0.105\n",
      "Prospect Heights     1.218+/-0.097\n",
      "Prospect Lefferts Gardens-Wingate 1.154+/-0.072\n",
      "Queens Village       0.529+/-0.048\n",
      "Queensboro Hill      0.401+/-0.054\n",
      "Queensbridge-Ravenswood-Dutch Kills 2.323+/-0.142\n",
      "Randall's Island     0.529+/-0.118\n",
      "Rego Park            0.579+/-0.055\n",
      "Richmond Hill        0.649+/-0.046\n",
      "Ridgewood            0.821+/-0.071\n",
      "Rikers Island        3.484+/-1.177\n",
      "Riverdale-Spuyten Duyvil 0.376+/-0.068\n",
      "Rockaway Beach-Arverne-Edgemere 1.607+/-0.161\n",
      "Rosebank-Shore Acres-Park Hill 0.404+/-0.099\n",
      "Rosedale             0.320+/-0.046\n",
      "Sheepshead Bay-Manhattan Beach-Gerritsen Beach 0.415+/-0.033\n",
      "SoHo-Little Italy-Hudson Square 3.097+/-0.077\n",
      "Soundview-Bruckner-Bronx River 0.674+/-0.044\n",
      "Soundview-Clason Point 0.923+/-0.099\n",
      "South Jamaica        0.769+/-0.087\n",
      "South Ozone Park     0.499+/-0.030\n",
      "South Richmond Hill  0.511+/-0.038\n",
      "South Williamsburg   0.669+/-0.050\n",
      "Spring Creek-Starrett City 0.490+/-0.056\n",
      "Springfield Gardens (North)-Rochdale Village 1.511+/-0.158\n",
      "Springfield Gardens (South)-Brookville 0.358+/-0.052\n",
      "St. Albans           0.429+/-0.036\n",
      "St. George-New Brighton 2.081+/-0.182\n",
      "Stuyvesant Town-Peter Cooper Village 0.985+/-0.177\n",
      "Sunnyside            0.544+/-0.039\n",
      "Sunnyside Yards (North) 0.595+/-0.087\n",
      "Sunset Park (Central) 0.514+/-0.055\n",
      "Sunset Park (East)-Borough Park (West) 0.521+/-0.054\n",
      "Sunset Park (West)   2.266+/-0.080\n",
      "Throgs Neck-Schuylerville 0.727+/-0.094\n",
      "Todt Hill-Emerson Hill-Lighthouse Hill-Manor Heights 0.314+/-0.051\n",
      "Tompkinsville-Stapleton-Clifton-Fox Hills 0.629+/-0.115\n",
      "Tottenville-Charleston 0.465+/-0.170\n",
      "Tremont              1.127+/-0.101\n",
      "Tribeca-Civic Center 2.300+/-0.092\n",
      "University Heights (North)-Fordham 0.879+/-0.061\n",
      "University Heights (South)-Morris Heights 0.784+/-0.065\n",
      "Upper East Side-Carnegie Hill 1.402+/-0.040\n",
      "Upper East Side-Lenox Hill-Roosevelt Island 0.960+/-0.054\n",
      "Upper East Side-Yorkville 1.222+/-0.069\n",
      "Upper West Side (Central) 1.285+/-0.055\n",
      "Upper West Side-Lincoln Square 1.548+/-0.062\n",
      "Upper West Side-Manhattan Valley 1.631+/-0.105\n",
      "Wakefield-Woodlawn   0.980+/-0.073\n",
      "Washington Heights (North) 1.062+/-0.056\n",
      "Washington Heights (South) 1.121+/-0.071\n",
      "West Farms           0.667+/-0.086\n",
      "West New Brighton-Silver Lake-Grymes Hill 0.621+/-0.095\n",
      "West Village         2.148+/-0.064\n",
      "Westchester Square   0.578+/-0.073\n",
      "Westerleigh-Castleton Corners 0.387+/-0.067\n",
      "Whitestone-Beechhurst 0.294+/-0.043\n",
      "Williamsbridge-Olinville 0.777+/-0.079\n",
      "Williamsburg         1.068+/-0.038\n",
      "Windsor Terrace-South Slope 0.421+/-0.046\n",
      "Woodhaven            0.457+/-0.043\n",
      "Woodside             0.473+/-0.025\n",
      "                                                    point_estimate  errorbar\n",
      "Gramercy_relative_to_average                              4.275345  0.102351\n",
      "Rikers Island_relative_to_average                         3.484210  1.176841\n",
      "SoHo-Little Italy-Hudson Square_relative_to_ave...        3.096577  0.077098\n",
      "Midtown-Times Square_relative_to_average                  2.880392  0.070792\n",
      "Hell's Kitchen_relative_to_average                        2.424660  0.088839\n",
      "...                                                            ...       ...\n",
      "Bay Terrace-Clearview_relative_to_average                 0.308443  0.052677\n",
      "Douglaston-Little Neck_relative_to_average                0.298340  0.037755\n",
      "Whitestone-Beechhurst_relative_to_average                 0.293881  0.042860\n",
      "Fort Wadsworth_relative_to_average                        0.244911  0.057233\n",
      "Arden Heights-Rossville_relative_to_average               0.225016  0.015855\n",
      "\n",
      "[218 rows x 2 columns]\n"
     ]
    },
    {
     "data": {
      "image/png": "[encoded data removed]",
      "text/plain": [
       "<Figure size 1152x360 with 1 Axes>"
      ]
     },
     "metadata": {
      "needs_background": "light"
     },
     "output_type": "display_data"
    }
   ],
   "source": [
    "# Top 12 Neighborhoods\n",
    "fig, ax = bootstrapped_plots(data_path=NTA_DATA_PATH, label_mapping=nta_label_mapping, firstn_filter=12, lastn_filter=4, ylim=[0,5], xlabel='Police Exposure Rates by NTA', figsize=(16,5))\n",
    "plt.savefig(f'{PLOTS_PATH}/bootstrapped_ntas_plot_t12b4.pdf', bbox_inches=\"tight\")"
   ]
  },
  {
   "cell_type": "code",
   "execution_count": 65,
   "id": "a86d2430",
   "metadata": {},
   "outputs": [
    {
     "name": "stdout",
     "output_type": "stream",
     "text": [
      "point estimate\n",
      "                     1.881+/-0.683\n",
      "Allerton             0.664+/-0.101\n",
      "Alley Pond Park      0.337+/-0.051\n",
      "Annadale-Huguenot-Prince's Bay-Woodrow 0.340+/-0.100\n",
      "Arden Heights-Rossville 0.225+/-0.016\n",
      "Astoria (Central)    1.042+/-0.064\n",
      "Astoria (East)-Woodside (North) 0.558+/-0.039\n",
      "Astoria (North)-Ditmars-Steinway 0.572+/-0.046\n",
      "Auburndale           0.356+/-0.048\n",
      "Baisley Park         0.998+/-0.074\n",
      "Barren Island-Floyd Bennett Field 0.391+/-0.063\n",
      "Bath Beach           0.958+/-0.072\n",
      "Bay Ridge            0.610+/-0.036\n",
      "Bay Terrace-Clearview 0.308+/-0.053\n",
      "Bayside              0.776+/-0.075\n",
      "Bedford Park         0.732+/-0.053\n",
      "Bedford-Stuyvesant (East) 1.183+/-0.045\n",
      "Bedford-Stuyvesant (West) 1.350+/-0.053\n",
      "Bellerose            0.375+/-0.044\n",
      "Belmont              1.020+/-0.084\n",
      "Bensonhurst          0.507+/-0.033\n",
      "Borough Park         0.711+/-0.033\n",
      "Breezy Point-Belle Harbor-Rockaway Park-Broad Channel 0.878+/-0.234\n",
      "Brighton Beach       0.790+/-0.091\n",
      "Bronx Park           0.513+/-0.042\n",
      "Brooklyn Heights     0.972+/-0.085\n",
      "Brownsville          1.076+/-0.078\n",
      "Bushwick (East)      0.630+/-0.041\n",
      "Bushwick (West)      0.956+/-0.045\n",
      "Calvert Vaux Park    0.371+/-0.089\n",
      "Cambria Heights      0.355+/-0.065\n",
      "Canarsie             0.844+/-0.047\n",
      "Carroll Gardens-Cobble Hill-Gowanus-Red Hook 1.313+/-0.080\n",
      "Castle Hill-Unionport 0.590+/-0.056\n",
      "Central Park         1.422+/-0.063\n",
      "Chelsea-Hudson Yards 2.107+/-0.059\n",
      "Chinatown-Two Bridges 1.505+/-0.130\n",
      "Claremont Village-Claremont (East) 0.810+/-0.085\n",
      "Clinton Hill         1.786+/-0.085\n",
      "Co-op City           0.594+/-0.163\n",
      "College Point        0.376+/-0.083\n",
      "Concourse-Concourse Village 1.174+/-0.070\n",
      "Coney Island-Sea Gate 1.979+/-0.149\n",
      "Corona               0.529+/-0.035\n",
      "Crotona Park East    0.854+/-0.081\n",
      "Crown Heights (North) 1.186+/-0.052\n",
      "Crown Heights (South) 1.156+/-0.058\n",
      "Cypress Hills        0.680+/-0.052\n",
      "Douglaston-Little Neck 0.298+/-0.038\n",
      "Downtown Brooklyn-DUMBO-Boerum Hill 1.861+/-0.058\n",
      "Dyker Beach Park     0.419+/-0.125\n",
      "Dyker Heights        0.422+/-0.042\n",
      "East Elmhurst        0.695+/-0.048\n",
      "East Flatbush-Erasmus 1.713+/-0.075\n",
      "East Flatbush-Farragut 0.810+/-0.074\n",
      "East Flatbush-Remsen Village 0.759+/-0.063\n",
      "East Flatbush-Rugby  0.708+/-0.048\n",
      "East Flushing        0.324+/-0.059\n",
      "East Harlem (North)  1.768+/-0.071\n",
      "East Harlem (South)  2.021+/-0.083\n",
      "East Midtown-Turtle Bay 1.455+/-0.067\n",
      "East New York (North) 1.770+/-0.092\n",
      "East New York-City Line 0.695+/-0.061\n",
      "East New York-New Lots 0.803+/-0.050\n",
      "East Village         1.799+/-0.066\n",
      "East Williamsburg    0.912+/-0.041\n",
      "Eastchester-Edenwald-Baychester 0.794+/-0.105\n",
      "Elmhurst             0.767+/-0.050\n",
      "Far Rockaway-Bayswater 1.297+/-0.120\n",
      "Financial District-Battery Park City 1.841+/-0.060\n",
      "Flatbush             0.919+/-0.051\n",
      "Flatbush (West)-Ditmas Park-Parkville 1.011+/-0.056\n",
      "Flatlands            0.877+/-0.050\n",
      "Flushing-Willets Point 0.938+/-0.049\n",
      "Fordham Heights      1.303+/-0.098\n",
      "Forest Hills         1.792+/-0.063\n",
      "Fort Greene          0.938+/-0.060\n",
      "Fort Hamilton        0.471+/-0.097\n",
      "Fort Wadsworth       0.245+/-0.057\n",
      "Fresh Meadows-Utopia 0.508+/-0.077\n",
      "Freshkills Park (South) 0.362+/-0.136\n",
      "Glen Oaks-Floral Park-New Hyde Park 0.370+/-0.052\n",
      "Glendale             0.400+/-0.042\n",
      "Gramercy             4.275+/-0.102\n",
      "Grasmere-Arrochar-South Beach-Dongan Hills 0.548+/-0.111\n",
      "Gravesend (East)-Homecrest 1.430+/-0.060\n",
      "Gravesend (South)    0.540+/-0.079\n",
      "Gravesend (West)     0.447+/-0.033\n",
      "Great Kills-Eltingville 0.330+/-0.058\n",
      "Greenpoint           0.791+/-0.043\n",
      "Greenwich Village    1.386+/-0.067\n",
      "Hamilton Heights-Sugar Hill 2.240+/-0.126\n",
      "Harlem (North)       1.716+/-0.066\n",
      "Harlem (South)       1.565+/-0.075\n",
      "Hell's Kitchen       2.425+/-0.089\n",
      "Highbridge           0.869+/-0.078\n",
      "Highland Park-Cypress Hills Cemeteries (North) 0.325+/-0.034\n",
      "Hollis               0.442+/-0.067\n",
      "Holy Cross Cemetery  0.738+/-0.323\n",
      "Howard Beach-Lindenwood 0.653+/-0.080\n",
      "Hunts Point          0.750+/-0.117\n",
      "Hutchinson Metro Center 0.934+/-0.094\n",
      "Inwood               0.809+/-0.072\n",
      "Inwood Hill Park     0.738+/-0.178\n",
      "Jackson Heights      1.054+/-0.046\n",
      "Jacob Riis Park-Fort Tilden-Breezy Point Tip 0.385+/-0.327\n",
      "Jamaica              1.281+/-0.051\n",
      "Jamaica Estates-Holliswood 0.503+/-0.049\n",
      "Jamaica Hills-Briarwood 0.477+/-0.031\n",
      "Kensington           0.529+/-0.030\n",
      "Kew Gardens          0.667+/-0.056\n",
      "Kew Gardens Hills    0.461+/-0.058\n",
      "Kingsbridge Heights-Van Cortlandt Village 0.591+/-0.068\n",
      "Kingsbridge-Marble Hill 1.126+/-0.154\n",
      "Laurelton            0.467+/-0.087\n",
      "Long Island City-Hunters Point 0.977+/-0.059\n",
      "Longwood             1.299+/-0.082\n",
      "Lower East Side      1.093+/-0.071\n",
      "Madison              0.514+/-0.048\n",
      "Manhattanville-West Harlem 1.951+/-0.163\n",
      "Mapleton-Midwood (West) 0.489+/-0.034\n",
      "Marine Park-Mill Basin-Bergen Beach 0.421+/-0.044\n",
      "Mariner's Harbor-Arlington-Graniteville 0.446+/-0.097\n",
      "Maspeth              0.401+/-0.031\n",
      "Melrose              2.015+/-0.108\n",
      "Middle Village       0.390+/-0.046\n",
      "Midtown South-Flatiron-Union Square 2.088+/-0.070\n",
      "Midtown-Times Square 2.880+/-0.071\n",
      "Midwood              0.530+/-0.038\n",
      "Miller Field         0.652+/-0.835\n",
      "Morningside Heights  1.456+/-0.119\n",
      "Morris Park          0.794+/-0.071\n",
      "Morrisania           1.595+/-0.081\n",
      "Mott Haven-Port Morris 1.728+/-0.101\n",
      "Mount Eden-Claremont (West) 1.491+/-0.098\n",
      "Mount Hope           2.026+/-0.122\n",
      "Mount Olivet & All Faiths Cemeteries 0.476+/-0.230\n",
      "Murray Hill-Broadway Flushing 0.450+/-0.048\n",
      "Murray Hill-Kips Bay 1.179+/-0.045\n",
      "New Dorp-Midland Beach 0.994+/-0.131\n",
      "New Springville-Willowbrook-Bulls Head-Travis 0.350+/-0.041\n",
      "North Corona         0.527+/-0.045\n",
      "Norwood              1.351+/-0.071\n",
      "Oakland Gardens-Hollis Hills 0.487+/-0.127\n",
      "Oakwood-Richmondtown 0.504+/-0.132\n",
      "Ocean Hill           0.922+/-0.048\n",
      "Old Astoria-Hallets Point 0.776+/-0.086\n",
      "Ozone Park           0.562+/-0.048\n",
      "Ozone Park (North)   0.570+/-0.046\n",
      "Park Slope           0.931+/-0.036\n",
      "Parkchester          0.941+/-0.119\n",
      "Pelham Bay Park      0.658+/-0.119\n",
      "Pelham Bay-Country Club-City Island 0.428+/-0.064\n",
      "Pelham Gardens       0.468+/-0.089\n",
      "Pelham Parkway-Van Nest 0.718+/-0.073\n",
      "Pomonok-Electchester-Hillcrest 1.596+/-0.146\n",
      "Port Richmond        0.488+/-0.105\n",
      "Prospect Heights     1.218+/-0.097\n",
      "Prospect Lefferts Gardens-Wingate 1.154+/-0.072\n",
      "Queens Village       0.529+/-0.048\n",
      "Queensboro Hill      0.401+/-0.054\n",
      "Queensbridge-Ravenswood-Dutch Kills 2.323+/-0.142\n",
      "Randall's Island     0.529+/-0.118\n",
      "Rego Park            0.579+/-0.055\n",
      "Richmond Hill        0.649+/-0.046\n",
      "Ridgewood            0.821+/-0.071\n",
      "Rikers Island        3.484+/-1.177\n",
      "Riverdale-Spuyten Duyvil 0.376+/-0.068\n",
      "Rockaway Beach-Arverne-Edgemere 1.607+/-0.161\n",
      "Rosebank-Shore Acres-Park Hill 0.404+/-0.099\n",
      "Rosedale             0.320+/-0.046\n",
      "Sheepshead Bay-Manhattan Beach-Gerritsen Beach 0.415+/-0.033\n",
      "SoHo-Little Italy-Hudson Square 3.097+/-0.077\n",
      "Soundview-Bruckner-Bronx River 0.674+/-0.044\n",
      "Soundview-Clason Point 0.923+/-0.099\n",
      "South Jamaica        0.769+/-0.087\n",
      "South Ozone Park     0.499+/-0.030\n",
      "South Richmond Hill  0.511+/-0.038\n",
      "South Williamsburg   0.669+/-0.050\n",
      "Spring Creek-Starrett City 0.490+/-0.056\n",
      "Springfield Gardens (North)-Rochdale Village 1.511+/-0.158\n",
      "Springfield Gardens (South)-Brookville 0.358+/-0.052\n",
      "St. Albans           0.429+/-0.036\n",
      "St. George-New Brighton 2.081+/-0.182\n",
      "Stuyvesant Town-Peter Cooper Village 0.985+/-0.177\n",
      "Sunnyside            0.544+/-0.039\n",
      "Sunnyside Yards (North) 0.595+/-0.087\n",
      "Sunset Park (Central) 0.514+/-0.055\n",
      "Sunset Park (East)-Borough Park (West) 0.521+/-0.054\n",
      "Sunset Park (West)   2.266+/-0.080\n",
      "Throgs Neck-Schuylerville 0.727+/-0.094\n",
      "Todt Hill-Emerson Hill-Lighthouse Hill-Manor Heights 0.314+/-0.051\n",
      "Tompkinsville-Stapleton-Clifton-Fox Hills 0.629+/-0.115\n",
      "Tottenville-Charleston 0.465+/-0.170\n",
      "Tremont              1.127+/-0.101\n",
      "Tribeca-Civic Center 2.300+/-0.092\n",
      "University Heights (North)-Fordham 0.879+/-0.061\n",
      "University Heights (South)-Morris Heights 0.784+/-0.065\n",
      "Upper East Side-Carnegie Hill 1.402+/-0.040\n",
      "Upper East Side-Lenox Hill-Roosevelt Island 0.960+/-0.054\n",
      "Upper East Side-Yorkville 1.222+/-0.069\n",
      "Upper West Side (Central) 1.285+/-0.055\n",
      "Upper West Side-Lincoln Square 1.548+/-0.062\n",
      "Upper West Side-Manhattan Valley 1.631+/-0.105\n",
      "Wakefield-Woodlawn   0.980+/-0.073\n",
      "Washington Heights (North) 1.062+/-0.056\n",
      "Washington Heights (South) 1.121+/-0.071\n",
      "West Farms           0.667+/-0.086\n",
      "West New Brighton-Silver Lake-Grymes Hill 0.621+/-0.095\n",
      "West Village         2.148+/-0.064\n",
      "Westchester Square   0.578+/-0.073\n",
      "Westerleigh-Castleton Corners 0.387+/-0.067\n",
      "Whitestone-Beechhurst 0.294+/-0.043\n",
      "Williamsbridge-Olinville 0.777+/-0.079\n",
      "Williamsburg         1.068+/-0.038\n",
      "Windsor Terrace-South Slope 0.421+/-0.046\n",
      "Woodhaven            0.457+/-0.043\n",
      "Woodside             0.473+/-0.025\n",
      "                                                    point_estimate  errorbar\n",
      "Gramercy_relative_to_average                              4.275345  0.102351\n",
      "Rikers Island_relative_to_average                         3.484210  1.176841\n",
      "SoHo-Little Italy-Hudson Square_relative_to_ave...        3.096577  0.077098\n",
      "Midtown-Times Square_relative_to_average                  2.880392  0.070792\n",
      "Hell's Kitchen_relative_to_average                        2.424660  0.088839\n",
      "...                                                            ...       ...\n",
      "Bay Terrace-Clearview_relative_to_average                 0.308443  0.052677\n",
      "Douglaston-Little Neck_relative_to_average                0.298340  0.037755\n",
      "Whitestone-Beechhurst_relative_to_average                 0.293881  0.042860\n",
      "Fort Wadsworth_relative_to_average                        0.244911  0.057233\n",
      "Arden Heights-Rossville_relative_to_average               0.225016  0.015855\n",
      "\n",
      "[218 rows x 2 columns]\n"
     ]
    },
    {
     "data": {
      "image/png": "[encoded data removed]",
      "text/plain": [
       "<Figure size 1152x360 with 1 Axes>"
      ]
     },
     "metadata": {
      "needs_background": "light"
     },
     "output_type": "display_data"
    }
   ],
   "source": [
    "# Bottom 12 Neighborhoods\n",
    "fig, ax = bootstrapped_plots(data_path=NTA_DATA_PATH, label_mapping=nta_label_mapping, firstn_filter=-1, lastn_filter=12, ylim=[0,5], xlabel='Police Exposure Rates by NTA', figsize=(16,5))\n",
    "plt.savefig(f'{PLOTS_PATH}/bootstrapped_ntas_plot_bottom12.pdf', bbox_inches=\"tight\")"
   ]
  },
  {
   "cell_type": "code",
   "execution_count": null,
   "id": "72280c5b",
   "metadata": {},
   "outputs": [],
   "source": []
  }
 ],
 "metadata": {
  "kernelspec": {
   "display_name": "Python 3",
   "language": "python",
   "name": "python3"
  },
  "language_info": {
   "codemirror_mode": {
    "name": "ipython",
    "version": 3
   },
   "file_extension": ".py",
   "mimetype": "text/x-python",
   "name": "python",
   "nbconvert_exporter": "python",
   "pygments_lexer": "ipython3",
   "version": "3.8.8"
  }
 },
 "nbformat": 4,
 "nbformat_minor": 5
}
