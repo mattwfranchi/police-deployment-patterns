{
 "cells": [
  {
   "cell_type": "code",
   "execution_count": 1,
   "id": "d42684cf",
   "metadata": {},
   "outputs": [],
   "source": [
    "from glob import glob \n",
    "import os \n",
    "import pandas as pd \n",
    "from tqdm.notebook import tqdm"
   ]
  },
  {
   "cell_type": "code",
   "execution_count": 2,
   "id": "f350fecf",
   "metadata": {},
   "outputs": [],
   "source": [
    "DIR_TO_SCAN = \"/share/pierson/nexar_data/nypd-deployment-patterns/output\"\n",
    "OUTPUT_DIR = \"/share/pierson/nexar_data/nypd-deployment-patterns/output\""
   ]
  },
  {
   "cell_type": "code",
   "execution_count": 3,
   "id": "cc1b300c",
   "metadata": {},
   "outputs": [
    {
     "data": {
      "text/plain": [
       "73"
      ]
     },
     "execution_count": 3,
     "metadata": {},
     "output_type": "execute_result"
    }
   ],
   "source": [
    "md_filenames = glob(f\"{DIR_TO_SCAN}/*.csv\")\n",
    "md_filenames = [x for x in md_filenames if 'analysis_dataset' not in x]\n",
    "md_filenames = [x for x in md_filenames if 'sanity_check' not in x]\n",
    "md_filenames = [x for x in md_filenames if 'md2img' not in x]\n",
    "len(md_filenames)"
   ]
  },
  {
   "cell_type": "code",
   "execution_count": 4,
   "id": "5d8ea607",
   "metadata": {},
   "outputs": [
    {
     "data": {
      "application/vnd.jupyter.widget-view+json": {
       "model_id": "cf3fc6bbfbde4546b8076c99f8e8a0f7",
       "version_major": 2,
       "version_minor": 0
      },
      "text/plain": [
       "  0%|          | 0/73 [00:00<?, ?it/s]"
      ]
     },
     "metadata": {},
     "output_type": "display_data"
    }
   ],
   "source": [
    "mds = [pd.read_csv(x, engine='pyarrow') for x in tqdm(md_filenames)]"
   ]
  },
  {
   "cell_type": "code",
   "execution_count": 5,
   "id": "1b5951d4",
   "metadata": {},
   "outputs": [],
   "source": [
    "agg_md = pd.concat(mds)"
   ]
  },
  {
   "cell_type": "code",
   "execution_count": 6,
   "id": "c432fb93",
   "metadata": {},
   "outputs": [],
   "source": [
    "agg_md.to_csv(f\"{OUTPUT_DIR}/analysis_dataset.csv\", index=False)"
   ]
  },
  {
   "cell_type": "code",
   "execution_count": null,
   "id": "cf5c5438",
   "metadata": {},
   "outputs": [],
   "source": []
  }
 ],
 "metadata": {
  "kernelspec": {
   "display_name": "Python 3",
   "language": "python",
   "name": "python3"
  },
  "language_info": {
   "codemirror_mode": {
    "name": "ipython",
    "version": 3
   },
   "file_extension": ".py",
   "mimetype": "text/x-python",
   "name": "python",
   "nbconvert_exporter": "python",
   "pygments_lexer": "ipython3",
   "version": "3.8.8"
  }
 },
 "nbformat": 4,
 "nbformat_minor": 5
}
